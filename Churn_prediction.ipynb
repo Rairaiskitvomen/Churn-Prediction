{
 "cells": [
  {
   "cell_type": "code",
   "execution_count": 1,
   "id": "bb9ecb6b",
   "metadata": {},
   "outputs": [],
   "source": [
    "#importing the necessary libraries\n",
    "import numpy as np\n",
    "import pandas as pd\n",
    "import matplotlib.pyplot as plt\n",
    "import seaborn as sb\n",
    "import plotly.express as px\n",
    "import zipfile\n",
    "from datetime import datetime as dt\n",
    "import pickle\n",
    "\n",
    "#importing dtale for visual assessment\n",
    "import dtale\n",
    "%matplotlib inline\n",
    "\n",
    "#machine learning related libraries\n",
    "from sklearn.model_selection import train_test_split\n",
    "\n",
    "#import algorithm\n",
    "from sklearn.linear_model import LogisticRegression\n",
    "from sklearn .tree import DecisionTreeClassifier\n",
    "from sklearn.ensemble import RandomForestClassifier\n",
    "\n",
    "#import evaluation metrics\n",
    "from sklearn import metrics\n",
    "\n",
    "#Deep learning - Tensorflow\n",
    "import tensorflow as tf\n",
    "from tensorflow.keras.models import Sequential\n",
    "from tensorflow.keras.layers import Dense"
   ]
  },
  {
   "cell_type": "code",
   "execution_count": 2,
   "id": "45e2cd2d",
   "metadata": {},
   "outputs": [],
   "source": [
    "df = zipfile.ZipFile('churn.zip')"
   ]
  },
  {
   "cell_type": "code",
   "execution_count": 3,
   "id": "4c2e0771",
   "metadata": {},
   "outputs": [
    {
     "data": {
      "text/plain": [
       "['Bank Customer Churn Prediction.csv']"
      ]
     },
     "execution_count": 3,
     "metadata": {},
     "output_type": "execute_result"
    }
   ],
   "source": [
    "df.namelist()\n"
   ]
  },
  {
   "cell_type": "code",
   "execution_count": 4,
   "id": "54bb8118",
   "metadata": {},
   "outputs": [],
   "source": [
    "df = pd.read_csv(zipfile.ZipFile('churn.zip').open('Bank Customer Churn Prediction.csv'))"
   ]
  },
  {
   "cell_type": "code",
   "execution_count": 5,
   "id": "bae30005",
   "metadata": {},
   "outputs": [
    {
     "data": {
      "text/html": [
       "<div>\n",
       "<style scoped>\n",
       "    .dataframe tbody tr th:only-of-type {\n",
       "        vertical-align: middle;\n",
       "    }\n",
       "\n",
       "    .dataframe tbody tr th {\n",
       "        vertical-align: top;\n",
       "    }\n",
       "\n",
       "    .dataframe thead th {\n",
       "        text-align: right;\n",
       "    }\n",
       "</style>\n",
       "<table border=\"1\" class=\"dataframe\">\n",
       "  <thead>\n",
       "    <tr style=\"text-align: right;\">\n",
       "      <th></th>\n",
       "      <th>customer_id</th>\n",
       "      <th>credit_score</th>\n",
       "      <th>country</th>\n",
       "      <th>gender</th>\n",
       "      <th>age</th>\n",
       "      <th>tenure</th>\n",
       "      <th>balance</th>\n",
       "      <th>products_number</th>\n",
       "      <th>credit_card</th>\n",
       "      <th>active_member</th>\n",
       "      <th>estimated_salary</th>\n",
       "      <th>churn</th>\n",
       "    </tr>\n",
       "  </thead>\n",
       "  <tbody>\n",
       "    <tr>\n",
       "      <th>0</th>\n",
       "      <td>15634602</td>\n",
       "      <td>619</td>\n",
       "      <td>France</td>\n",
       "      <td>Female</td>\n",
       "      <td>42</td>\n",
       "      <td>2</td>\n",
       "      <td>0.00</td>\n",
       "      <td>1</td>\n",
       "      <td>1</td>\n",
       "      <td>1</td>\n",
       "      <td>101348.88</td>\n",
       "      <td>1</td>\n",
       "    </tr>\n",
       "    <tr>\n",
       "      <th>1</th>\n",
       "      <td>15647311</td>\n",
       "      <td>608</td>\n",
       "      <td>Spain</td>\n",
       "      <td>Female</td>\n",
       "      <td>41</td>\n",
       "      <td>1</td>\n",
       "      <td>83807.86</td>\n",
       "      <td>1</td>\n",
       "      <td>0</td>\n",
       "      <td>1</td>\n",
       "      <td>112542.58</td>\n",
       "      <td>0</td>\n",
       "    </tr>\n",
       "    <tr>\n",
       "      <th>2</th>\n",
       "      <td>15619304</td>\n",
       "      <td>502</td>\n",
       "      <td>France</td>\n",
       "      <td>Female</td>\n",
       "      <td>42</td>\n",
       "      <td>8</td>\n",
       "      <td>159660.80</td>\n",
       "      <td>3</td>\n",
       "      <td>1</td>\n",
       "      <td>0</td>\n",
       "      <td>113931.57</td>\n",
       "      <td>1</td>\n",
       "    </tr>\n",
       "    <tr>\n",
       "      <th>3</th>\n",
       "      <td>15701354</td>\n",
       "      <td>699</td>\n",
       "      <td>France</td>\n",
       "      <td>Female</td>\n",
       "      <td>39</td>\n",
       "      <td>1</td>\n",
       "      <td>0.00</td>\n",
       "      <td>2</td>\n",
       "      <td>0</td>\n",
       "      <td>0</td>\n",
       "      <td>93826.63</td>\n",
       "      <td>0</td>\n",
       "    </tr>\n",
       "    <tr>\n",
       "      <th>4</th>\n",
       "      <td>15737888</td>\n",
       "      <td>850</td>\n",
       "      <td>Spain</td>\n",
       "      <td>Female</td>\n",
       "      <td>43</td>\n",
       "      <td>2</td>\n",
       "      <td>125510.82</td>\n",
       "      <td>1</td>\n",
       "      <td>1</td>\n",
       "      <td>1</td>\n",
       "      <td>79084.10</td>\n",
       "      <td>0</td>\n",
       "    </tr>\n",
       "  </tbody>\n",
       "</table>\n",
       "</div>"
      ],
      "text/plain": [
       "   customer_id  credit_score country  gender  age  tenure    balance  \\\n",
       "0     15634602           619  France  Female   42       2       0.00   \n",
       "1     15647311           608   Spain  Female   41       1   83807.86   \n",
       "2     15619304           502  France  Female   42       8  159660.80   \n",
       "3     15701354           699  France  Female   39       1       0.00   \n",
       "4     15737888           850   Spain  Female   43       2  125510.82   \n",
       "\n",
       "   products_number  credit_card  active_member  estimated_salary  churn  \n",
       "0                1            1              1         101348.88      1  \n",
       "1                1            0              1         112542.58      0  \n",
       "2                3            1              0         113931.57      1  \n",
       "3                2            0              0          93826.63      0  \n",
       "4                1            1              1          79084.10      0  "
      ]
     },
     "execution_count": 5,
     "metadata": {},
     "output_type": "execute_result"
    }
   ],
   "source": [
    "df.head()"
   ]
  },
  {
   "cell_type": "code",
   "execution_count": 6,
   "id": "13ba7928",
   "metadata": {},
   "outputs": [
    {
     "name": "stdout",
     "output_type": "stream",
     "text": [
      "<class 'pandas.core.frame.DataFrame'>\n",
      "RangeIndex: 10000 entries, 0 to 9999\n",
      "Data columns (total 12 columns):\n",
      " #   Column            Non-Null Count  Dtype  \n",
      "---  ------            --------------  -----  \n",
      " 0   customer_id       10000 non-null  int64  \n",
      " 1   credit_score      10000 non-null  int64  \n",
      " 2   country           10000 non-null  object \n",
      " 3   gender            10000 non-null  object \n",
      " 4   age               10000 non-null  int64  \n",
      " 5   tenure            10000 non-null  int64  \n",
      " 6   balance           10000 non-null  float64\n",
      " 7   products_number   10000 non-null  int64  \n",
      " 8   credit_card       10000 non-null  int64  \n",
      " 9   active_member     10000 non-null  int64  \n",
      " 10  estimated_salary  10000 non-null  float64\n",
      " 11  churn             10000 non-null  int64  \n",
      "dtypes: float64(2), int64(8), object(2)\n",
      "memory usage: 937.6+ KB\n"
     ]
    }
   ],
   "source": [
    "df.info()"
   ]
  },
  {
   "cell_type": "code",
   "execution_count": 7,
   "id": "08384550",
   "metadata": {},
   "outputs": [
    {
     "data": {
      "text/html": [
       "<div>\n",
       "<style scoped>\n",
       "    .dataframe tbody tr th:only-of-type {\n",
       "        vertical-align: middle;\n",
       "    }\n",
       "\n",
       "    .dataframe tbody tr th {\n",
       "        vertical-align: top;\n",
       "    }\n",
       "\n",
       "    .dataframe thead th {\n",
       "        text-align: right;\n",
       "    }\n",
       "</style>\n",
       "<table border=\"1\" class=\"dataframe\">\n",
       "  <thead>\n",
       "    <tr style=\"text-align: right;\">\n",
       "      <th></th>\n",
       "      <th>count</th>\n",
       "      <th>mean</th>\n",
       "      <th>std</th>\n",
       "      <th>min</th>\n",
       "      <th>25%</th>\n",
       "      <th>50%</th>\n",
       "      <th>75%</th>\n",
       "      <th>max</th>\n",
       "    </tr>\n",
       "  </thead>\n",
       "  <tbody>\n",
       "    <tr>\n",
       "      <th>customer_id</th>\n",
       "      <td>10000.0</td>\n",
       "      <td>1.569094e+07</td>\n",
       "      <td>71936.186123</td>\n",
       "      <td>15565701.00</td>\n",
       "      <td>15628528.25</td>\n",
       "      <td>1.569074e+07</td>\n",
       "      <td>1.575323e+07</td>\n",
       "      <td>15815690.00</td>\n",
       "    </tr>\n",
       "    <tr>\n",
       "      <th>credit_score</th>\n",
       "      <td>10000.0</td>\n",
       "      <td>6.505288e+02</td>\n",
       "      <td>96.653299</td>\n",
       "      <td>350.00</td>\n",
       "      <td>584.00</td>\n",
       "      <td>6.520000e+02</td>\n",
       "      <td>7.180000e+02</td>\n",
       "      <td>850.00</td>\n",
       "    </tr>\n",
       "    <tr>\n",
       "      <th>age</th>\n",
       "      <td>10000.0</td>\n",
       "      <td>3.892180e+01</td>\n",
       "      <td>10.487806</td>\n",
       "      <td>18.00</td>\n",
       "      <td>32.00</td>\n",
       "      <td>3.700000e+01</td>\n",
       "      <td>4.400000e+01</td>\n",
       "      <td>92.00</td>\n",
       "    </tr>\n",
       "    <tr>\n",
       "      <th>tenure</th>\n",
       "      <td>10000.0</td>\n",
       "      <td>5.012800e+00</td>\n",
       "      <td>2.892174</td>\n",
       "      <td>0.00</td>\n",
       "      <td>3.00</td>\n",
       "      <td>5.000000e+00</td>\n",
       "      <td>7.000000e+00</td>\n",
       "      <td>10.00</td>\n",
       "    </tr>\n",
       "    <tr>\n",
       "      <th>balance</th>\n",
       "      <td>10000.0</td>\n",
       "      <td>7.648589e+04</td>\n",
       "      <td>62397.405202</td>\n",
       "      <td>0.00</td>\n",
       "      <td>0.00</td>\n",
       "      <td>9.719854e+04</td>\n",
       "      <td>1.276442e+05</td>\n",
       "      <td>250898.09</td>\n",
       "    </tr>\n",
       "    <tr>\n",
       "      <th>products_number</th>\n",
       "      <td>10000.0</td>\n",
       "      <td>1.530200e+00</td>\n",
       "      <td>0.581654</td>\n",
       "      <td>1.00</td>\n",
       "      <td>1.00</td>\n",
       "      <td>1.000000e+00</td>\n",
       "      <td>2.000000e+00</td>\n",
       "      <td>4.00</td>\n",
       "    </tr>\n",
       "    <tr>\n",
       "      <th>credit_card</th>\n",
       "      <td>10000.0</td>\n",
       "      <td>7.055000e-01</td>\n",
       "      <td>0.455840</td>\n",
       "      <td>0.00</td>\n",
       "      <td>0.00</td>\n",
       "      <td>1.000000e+00</td>\n",
       "      <td>1.000000e+00</td>\n",
       "      <td>1.00</td>\n",
       "    </tr>\n",
       "    <tr>\n",
       "      <th>active_member</th>\n",
       "      <td>10000.0</td>\n",
       "      <td>5.151000e-01</td>\n",
       "      <td>0.499797</td>\n",
       "      <td>0.00</td>\n",
       "      <td>0.00</td>\n",
       "      <td>1.000000e+00</td>\n",
       "      <td>1.000000e+00</td>\n",
       "      <td>1.00</td>\n",
       "    </tr>\n",
       "    <tr>\n",
       "      <th>estimated_salary</th>\n",
       "      <td>10000.0</td>\n",
       "      <td>1.000902e+05</td>\n",
       "      <td>57510.492818</td>\n",
       "      <td>11.58</td>\n",
       "      <td>51002.11</td>\n",
       "      <td>1.001939e+05</td>\n",
       "      <td>1.493882e+05</td>\n",
       "      <td>199992.48</td>\n",
       "    </tr>\n",
       "    <tr>\n",
       "      <th>churn</th>\n",
       "      <td>10000.0</td>\n",
       "      <td>2.037000e-01</td>\n",
       "      <td>0.402769</td>\n",
       "      <td>0.00</td>\n",
       "      <td>0.00</td>\n",
       "      <td>0.000000e+00</td>\n",
       "      <td>0.000000e+00</td>\n",
       "      <td>1.00</td>\n",
       "    </tr>\n",
       "  </tbody>\n",
       "</table>\n",
       "</div>"
      ],
      "text/plain": [
       "                    count          mean           std          min  \\\n",
       "customer_id       10000.0  1.569094e+07  71936.186123  15565701.00   \n",
       "credit_score      10000.0  6.505288e+02     96.653299       350.00   \n",
       "age               10000.0  3.892180e+01     10.487806        18.00   \n",
       "tenure            10000.0  5.012800e+00      2.892174         0.00   \n",
       "balance           10000.0  7.648589e+04  62397.405202         0.00   \n",
       "products_number   10000.0  1.530200e+00      0.581654         1.00   \n",
       "credit_card       10000.0  7.055000e-01      0.455840         0.00   \n",
       "active_member     10000.0  5.151000e-01      0.499797         0.00   \n",
       "estimated_salary  10000.0  1.000902e+05  57510.492818        11.58   \n",
       "churn             10000.0  2.037000e-01      0.402769         0.00   \n",
       "\n",
       "                          25%           50%           75%          max  \n",
       "customer_id       15628528.25  1.569074e+07  1.575323e+07  15815690.00  \n",
       "credit_score           584.00  6.520000e+02  7.180000e+02       850.00  \n",
       "age                     32.00  3.700000e+01  4.400000e+01        92.00  \n",
       "tenure                   3.00  5.000000e+00  7.000000e+00        10.00  \n",
       "balance                  0.00  9.719854e+04  1.276442e+05    250898.09  \n",
       "products_number          1.00  1.000000e+00  2.000000e+00         4.00  \n",
       "credit_card              0.00  1.000000e+00  1.000000e+00         1.00  \n",
       "active_member            0.00  1.000000e+00  1.000000e+00         1.00  \n",
       "estimated_salary     51002.11  1.001939e+05  1.493882e+05    199992.48  \n",
       "churn                    0.00  0.000000e+00  0.000000e+00         1.00  "
      ]
     },
     "execution_count": 7,
     "metadata": {},
     "output_type": "execute_result"
    }
   ],
   "source": [
    "#This gives us the statistical summary of our data\n",
    "df.describe().transpose()"
   ]
  },
  {
   "cell_type": "code",
   "execution_count": 8,
   "id": "b92b3539",
   "metadata": {},
   "outputs": [
    {
     "data": {
      "text/plain": [
       "customer_id         0\n",
       "credit_score        0\n",
       "country             0\n",
       "gender              0\n",
       "age                 0\n",
       "tenure              0\n",
       "balance             0\n",
       "products_number     0\n",
       "credit_card         0\n",
       "active_member       0\n",
       "estimated_salary    0\n",
       "churn               0\n",
       "dtype: int64"
      ]
     },
     "execution_count": 8,
     "metadata": {},
     "output_type": "execute_result"
    }
   ],
   "source": [
    "#checking for an missing values\n",
    "df.isnull().sum()"
   ]
  },
  {
   "cell_type": "code",
   "execution_count": 9,
   "id": "845cfbcd",
   "metadata": {},
   "outputs": [
    {
     "data": {
      "text/plain": [
       "France     5014\n",
       "Germany    2509\n",
       "Spain      2477\n",
       "Name: country, dtype: int64"
      ]
     },
     "execution_count": 9,
     "metadata": {},
     "output_type": "execute_result"
    }
   ],
   "source": [
    "df['country'].value_counts()"
   ]
  },
  {
   "cell_type": "code",
   "execution_count": 10,
   "id": "b0d2ea54",
   "metadata": {},
   "outputs": [
    {
     "data": {
      "text/plain": [
       "Male      5457\n",
       "Female    4543\n",
       "Name: gender, dtype: int64"
      ]
     },
     "execution_count": 10,
     "metadata": {},
     "output_type": "execute_result"
    }
   ],
   "source": [
    "df['gender'].value_counts()"
   ]
  },
  {
   "cell_type": "code",
   "execution_count": 11,
   "id": "675c99d6",
   "metadata": {},
   "outputs": [],
   "source": [
    "countries = pd.get_dummies(df['country'])#it wil be useful in our model"
   ]
  },
  {
   "cell_type": "code",
   "execution_count": 12,
   "id": "4c3d875f",
   "metadata": {},
   "outputs": [
    {
     "data": {
      "text/html": [
       "<div>\n",
       "<style scoped>\n",
       "    .dataframe tbody tr th:only-of-type {\n",
       "        vertical-align: middle;\n",
       "    }\n",
       "\n",
       "    .dataframe tbody tr th {\n",
       "        vertical-align: top;\n",
       "    }\n",
       "\n",
       "    .dataframe thead th {\n",
       "        text-align: right;\n",
       "    }\n",
       "</style>\n",
       "<table border=\"1\" class=\"dataframe\">\n",
       "  <thead>\n",
       "    <tr style=\"text-align: right;\">\n",
       "      <th></th>\n",
       "      <th>France</th>\n",
       "      <th>Germany</th>\n",
       "      <th>Spain</th>\n",
       "    </tr>\n",
       "  </thead>\n",
       "  <tbody>\n",
       "    <tr>\n",
       "      <th>0</th>\n",
       "      <td>1</td>\n",
       "      <td>0</td>\n",
       "      <td>0</td>\n",
       "    </tr>\n",
       "    <tr>\n",
       "      <th>1</th>\n",
       "      <td>0</td>\n",
       "      <td>0</td>\n",
       "      <td>1</td>\n",
       "    </tr>\n",
       "    <tr>\n",
       "      <th>2</th>\n",
       "      <td>1</td>\n",
       "      <td>0</td>\n",
       "      <td>0</td>\n",
       "    </tr>\n",
       "    <tr>\n",
       "      <th>3</th>\n",
       "      <td>1</td>\n",
       "      <td>0</td>\n",
       "      <td>0</td>\n",
       "    </tr>\n",
       "    <tr>\n",
       "      <th>4</th>\n",
       "      <td>0</td>\n",
       "      <td>0</td>\n",
       "      <td>1</td>\n",
       "    </tr>\n",
       "    <tr>\n",
       "      <th>...</th>\n",
       "      <td>...</td>\n",
       "      <td>...</td>\n",
       "      <td>...</td>\n",
       "    </tr>\n",
       "    <tr>\n",
       "      <th>9995</th>\n",
       "      <td>1</td>\n",
       "      <td>0</td>\n",
       "      <td>0</td>\n",
       "    </tr>\n",
       "    <tr>\n",
       "      <th>9996</th>\n",
       "      <td>1</td>\n",
       "      <td>0</td>\n",
       "      <td>0</td>\n",
       "    </tr>\n",
       "    <tr>\n",
       "      <th>9997</th>\n",
       "      <td>1</td>\n",
       "      <td>0</td>\n",
       "      <td>0</td>\n",
       "    </tr>\n",
       "    <tr>\n",
       "      <th>9998</th>\n",
       "      <td>0</td>\n",
       "      <td>1</td>\n",
       "      <td>0</td>\n",
       "    </tr>\n",
       "    <tr>\n",
       "      <th>9999</th>\n",
       "      <td>1</td>\n",
       "      <td>0</td>\n",
       "      <td>0</td>\n",
       "    </tr>\n",
       "  </tbody>\n",
       "</table>\n",
       "<p>10000 rows × 3 columns</p>\n",
       "</div>"
      ],
      "text/plain": [
       "      France  Germany  Spain\n",
       "0          1        0      0\n",
       "1          0        0      1\n",
       "2          1        0      0\n",
       "3          1        0      0\n",
       "4          0        0      1\n",
       "...      ...      ...    ...\n",
       "9995       1        0      0\n",
       "9996       1        0      0\n",
       "9997       1        0      0\n",
       "9998       0        1      0\n",
       "9999       1        0      0\n",
       "\n",
       "[10000 rows x 3 columns]"
      ]
     },
     "execution_count": 12,
     "metadata": {},
     "output_type": "execute_result"
    }
   ],
   "source": [
    "countries"
   ]
  },
  {
   "cell_type": "code",
   "execution_count": 13,
   "id": "486da921",
   "metadata": {},
   "outputs": [],
   "source": [
    "genders = pd.get_dummies(df['gender'])#it wil be useful in our model"
   ]
  },
  {
   "cell_type": "code",
   "execution_count": 14,
   "id": "5b17ba82",
   "metadata": {},
   "outputs": [
    {
     "data": {
      "text/html": [
       "<div>\n",
       "<style scoped>\n",
       "    .dataframe tbody tr th:only-of-type {\n",
       "        vertical-align: middle;\n",
       "    }\n",
       "\n",
       "    .dataframe tbody tr th {\n",
       "        vertical-align: top;\n",
       "    }\n",
       "\n",
       "    .dataframe thead th {\n",
       "        text-align: right;\n",
       "    }\n",
       "</style>\n",
       "<table border=\"1\" class=\"dataframe\">\n",
       "  <thead>\n",
       "    <tr style=\"text-align: right;\">\n",
       "      <th></th>\n",
       "      <th>Female</th>\n",
       "      <th>Male</th>\n",
       "    </tr>\n",
       "  </thead>\n",
       "  <tbody>\n",
       "    <tr>\n",
       "      <th>0</th>\n",
       "      <td>1</td>\n",
       "      <td>0</td>\n",
       "    </tr>\n",
       "    <tr>\n",
       "      <th>1</th>\n",
       "      <td>1</td>\n",
       "      <td>0</td>\n",
       "    </tr>\n",
       "    <tr>\n",
       "      <th>2</th>\n",
       "      <td>1</td>\n",
       "      <td>0</td>\n",
       "    </tr>\n",
       "    <tr>\n",
       "      <th>3</th>\n",
       "      <td>1</td>\n",
       "      <td>0</td>\n",
       "    </tr>\n",
       "    <tr>\n",
       "      <th>4</th>\n",
       "      <td>1</td>\n",
       "      <td>0</td>\n",
       "    </tr>\n",
       "    <tr>\n",
       "      <th>...</th>\n",
       "      <td>...</td>\n",
       "      <td>...</td>\n",
       "    </tr>\n",
       "    <tr>\n",
       "      <th>9995</th>\n",
       "      <td>0</td>\n",
       "      <td>1</td>\n",
       "    </tr>\n",
       "    <tr>\n",
       "      <th>9996</th>\n",
       "      <td>0</td>\n",
       "      <td>1</td>\n",
       "    </tr>\n",
       "    <tr>\n",
       "      <th>9997</th>\n",
       "      <td>1</td>\n",
       "      <td>0</td>\n",
       "    </tr>\n",
       "    <tr>\n",
       "      <th>9998</th>\n",
       "      <td>0</td>\n",
       "      <td>1</td>\n",
       "    </tr>\n",
       "    <tr>\n",
       "      <th>9999</th>\n",
       "      <td>1</td>\n",
       "      <td>0</td>\n",
       "    </tr>\n",
       "  </tbody>\n",
       "</table>\n",
       "<p>10000 rows × 2 columns</p>\n",
       "</div>"
      ],
      "text/plain": [
       "      Female  Male\n",
       "0          1     0\n",
       "1          1     0\n",
       "2          1     0\n",
       "3          1     0\n",
       "4          1     0\n",
       "...      ...   ...\n",
       "9995       0     1\n",
       "9996       0     1\n",
       "9997       1     0\n",
       "9998       0     1\n",
       "9999       1     0\n",
       "\n",
       "[10000 rows x 2 columns]"
      ]
     },
     "execution_count": 14,
     "metadata": {},
     "output_type": "execute_result"
    }
   ],
   "source": [
    "genders"
   ]
  },
  {
   "cell_type": "code",
   "execution_count": 15,
   "id": "2c68f979",
   "metadata": {},
   "outputs": [],
   "source": [
    "df = pd.concat([df , countries, genders],axis = 1)"
   ]
  },
  {
   "cell_type": "code",
   "execution_count": 16,
   "id": "33e39e3c",
   "metadata": {},
   "outputs": [
    {
     "data": {
      "text/html": [
       "<div>\n",
       "<style scoped>\n",
       "    .dataframe tbody tr th:only-of-type {\n",
       "        vertical-align: middle;\n",
       "    }\n",
       "\n",
       "    .dataframe tbody tr th {\n",
       "        vertical-align: top;\n",
       "    }\n",
       "\n",
       "    .dataframe thead th {\n",
       "        text-align: right;\n",
       "    }\n",
       "</style>\n",
       "<table border=\"1\" class=\"dataframe\">\n",
       "  <thead>\n",
       "    <tr style=\"text-align: right;\">\n",
       "      <th></th>\n",
       "      <th>customer_id</th>\n",
       "      <th>credit_score</th>\n",
       "      <th>country</th>\n",
       "      <th>gender</th>\n",
       "      <th>age</th>\n",
       "      <th>tenure</th>\n",
       "      <th>balance</th>\n",
       "      <th>products_number</th>\n",
       "      <th>credit_card</th>\n",
       "      <th>active_member</th>\n",
       "      <th>estimated_salary</th>\n",
       "      <th>churn</th>\n",
       "      <th>France</th>\n",
       "      <th>Germany</th>\n",
       "      <th>Spain</th>\n",
       "      <th>Female</th>\n",
       "      <th>Male</th>\n",
       "    </tr>\n",
       "  </thead>\n",
       "  <tbody>\n",
       "    <tr>\n",
       "      <th>0</th>\n",
       "      <td>15634602</td>\n",
       "      <td>619</td>\n",
       "      <td>France</td>\n",
       "      <td>Female</td>\n",
       "      <td>42</td>\n",
       "      <td>2</td>\n",
       "      <td>0.00</td>\n",
       "      <td>1</td>\n",
       "      <td>1</td>\n",
       "      <td>1</td>\n",
       "      <td>101348.88</td>\n",
       "      <td>1</td>\n",
       "      <td>1</td>\n",
       "      <td>0</td>\n",
       "      <td>0</td>\n",
       "      <td>1</td>\n",
       "      <td>0</td>\n",
       "    </tr>\n",
       "    <tr>\n",
       "      <th>1</th>\n",
       "      <td>15647311</td>\n",
       "      <td>608</td>\n",
       "      <td>Spain</td>\n",
       "      <td>Female</td>\n",
       "      <td>41</td>\n",
       "      <td>1</td>\n",
       "      <td>83807.86</td>\n",
       "      <td>1</td>\n",
       "      <td>0</td>\n",
       "      <td>1</td>\n",
       "      <td>112542.58</td>\n",
       "      <td>0</td>\n",
       "      <td>0</td>\n",
       "      <td>0</td>\n",
       "      <td>1</td>\n",
       "      <td>1</td>\n",
       "      <td>0</td>\n",
       "    </tr>\n",
       "    <tr>\n",
       "      <th>2</th>\n",
       "      <td>15619304</td>\n",
       "      <td>502</td>\n",
       "      <td>France</td>\n",
       "      <td>Female</td>\n",
       "      <td>42</td>\n",
       "      <td>8</td>\n",
       "      <td>159660.80</td>\n",
       "      <td>3</td>\n",
       "      <td>1</td>\n",
       "      <td>0</td>\n",
       "      <td>113931.57</td>\n",
       "      <td>1</td>\n",
       "      <td>1</td>\n",
       "      <td>0</td>\n",
       "      <td>0</td>\n",
       "      <td>1</td>\n",
       "      <td>0</td>\n",
       "    </tr>\n",
       "    <tr>\n",
       "      <th>3</th>\n",
       "      <td>15701354</td>\n",
       "      <td>699</td>\n",
       "      <td>France</td>\n",
       "      <td>Female</td>\n",
       "      <td>39</td>\n",
       "      <td>1</td>\n",
       "      <td>0.00</td>\n",
       "      <td>2</td>\n",
       "      <td>0</td>\n",
       "      <td>0</td>\n",
       "      <td>93826.63</td>\n",
       "      <td>0</td>\n",
       "      <td>1</td>\n",
       "      <td>0</td>\n",
       "      <td>0</td>\n",
       "      <td>1</td>\n",
       "      <td>0</td>\n",
       "    </tr>\n",
       "    <tr>\n",
       "      <th>4</th>\n",
       "      <td>15737888</td>\n",
       "      <td>850</td>\n",
       "      <td>Spain</td>\n",
       "      <td>Female</td>\n",
       "      <td>43</td>\n",
       "      <td>2</td>\n",
       "      <td>125510.82</td>\n",
       "      <td>1</td>\n",
       "      <td>1</td>\n",
       "      <td>1</td>\n",
       "      <td>79084.10</td>\n",
       "      <td>0</td>\n",
       "      <td>0</td>\n",
       "      <td>0</td>\n",
       "      <td>1</td>\n",
       "      <td>1</td>\n",
       "      <td>0</td>\n",
       "    </tr>\n",
       "  </tbody>\n",
       "</table>\n",
       "</div>"
      ],
      "text/plain": [
       "   customer_id  credit_score country  gender  age  tenure    balance  \\\n",
       "0     15634602           619  France  Female   42       2       0.00   \n",
       "1     15647311           608   Spain  Female   41       1   83807.86   \n",
       "2     15619304           502  France  Female   42       8  159660.80   \n",
       "3     15701354           699  France  Female   39       1       0.00   \n",
       "4     15737888           850   Spain  Female   43       2  125510.82   \n",
       "\n",
       "   products_number  credit_card  active_member  estimated_salary  churn  \\\n",
       "0                1            1              1         101348.88      1   \n",
       "1                1            0              1         112542.58      0   \n",
       "2                3            1              0         113931.57      1   \n",
       "3                2            0              0          93826.63      0   \n",
       "4                1            1              1          79084.10      0   \n",
       "\n",
       "   France  Germany  Spain  Female  Male  \n",
       "0       1        0      0       1     0  \n",
       "1       0        0      1       1     0  \n",
       "2       1        0      0       1     0  \n",
       "3       1        0      0       1     0  \n",
       "4       0        0      1       1     0  "
      ]
     },
     "execution_count": 16,
     "metadata": {},
     "output_type": "execute_result"
    }
   ],
   "source": [
    "df.head()"
   ]
  },
  {
   "cell_type": "code",
   "execution_count": 17,
   "id": "3573a6bd",
   "metadata": {},
   "outputs": [],
   "source": [
    "df.drop(['country' ,'gender', 'customer_id'] , axis = 1, inplace = True)"
   ]
  },
  {
   "cell_type": "code",
   "execution_count": 18,
   "id": "9a016a71",
   "metadata": {},
   "outputs": [
    {
     "data": {
      "text/plain": [
       "credit_score          int64\n",
       "age                   int64\n",
       "tenure                int64\n",
       "balance             float64\n",
       "products_number       int64\n",
       "credit_card           int64\n",
       "active_member         int64\n",
       "estimated_salary    float64\n",
       "churn                 int64\n",
       "France                uint8\n",
       "Germany               uint8\n",
       "Spain                 uint8\n",
       "Female                uint8\n",
       "Male                  uint8\n",
       "dtype: object"
      ]
     },
     "execution_count": 18,
     "metadata": {},
     "output_type": "execute_result"
    }
   ],
   "source": [
    "df.dtypes"
   ]
  },
  {
   "cell_type": "code",
   "execution_count": 19,
   "id": "53686298",
   "metadata": {},
   "outputs": [
    {
     "data": {
      "text/plain": [
       "credit_score       -0.027094\n",
       "age                 0.285323\n",
       "tenure             -0.014001\n",
       "balance             0.118533\n",
       "products_number    -0.047820\n",
       "credit_card        -0.007138\n",
       "active_member      -0.156128\n",
       "estimated_salary    0.012097\n",
       "churn               1.000000\n",
       "France             -0.104955\n",
       "Germany             0.173488\n",
       "Spain              -0.052667\n",
       "Female              0.106512\n",
       "Male               -0.106512\n",
       "Name: churn, dtype: float64"
      ]
     },
     "execution_count": 19,
     "metadata": {},
     "output_type": "execute_result"
    }
   ],
   "source": [
    "df.corr()['churn']"
   ]
  },
  {
   "cell_type": "code",
   "execution_count": 20,
   "id": "90e60785",
   "metadata": {},
   "outputs": [
    {
     "data": {
      "text/plain": [
       "<AxesSubplot:>"
      ]
     },
     "execution_count": 20,
     "metadata": {},
     "output_type": "execute_result"
    },
    {
     "data": {
      "image/png": "[encoded data removed]",
      "text/plain": [
       "<Figure size 1000x1000 with 2 Axes>"
      ]
     },
     "metadata": {},
     "output_type": "display_data"
    }
   ],
   "source": [
    "plt.figure(figsize =(10,10))\n",
    "sb.heatmap(df.corr(), annot = True)"
   ]
  },
  {
   "cell_type": "code",
   "execution_count": 21,
   "id": "dd4f224c",
   "metadata": {},
   "outputs": [],
   "source": [
    "X = df.drop('churn' , axis = 1).values\n",
    "y = df['churn']"
   ]
  },
  {
   "cell_type": "code",
   "execution_count": 22,
   "id": "e5564554",
   "metadata": {},
   "outputs": [],
   "source": [
    "X_train, X_test, y_train, y_test = train_test_split(X, y, test_size=0.33, random_state=101)"
   ]
  },
  {
   "cell_type": "code",
   "execution_count": 23,
   "id": "27ca5495",
   "metadata": {},
   "outputs": [
    {
     "data": {
      "text/plain": [
       "array([[638.,  36.,   6., ...,   0.,   1.,   0.],\n",
       "       [769.,  38.,   6., ...,   1.,   0.,   1.],\n",
       "       [803.,  42.,   5., ...,   0.,   0.,   1.],\n",
       "       ...,\n",
       "       [716.,  41.,   8., ...,   0.,   0.,   1.],\n",
       "       [578.,  32.,   4., ...,   0.,   0.,   1.],\n",
       "       [653.,  30.,   2., ...,   1.,   1.,   0.]])"
      ]
     },
     "execution_count": 23,
     "metadata": {},
     "output_type": "execute_result"
    }
   ],
   "source": [
    "X_train"
   ]
  },
  {
   "cell_type": "code",
   "execution_count": 24,
   "id": "58b765a0",
   "metadata": {},
   "outputs": [
    {
     "data": {
      "text/plain": [
       "9403    0\n",
       "7054    0\n",
       "1085    1\n",
       "8907    0\n",
       "4155    0\n",
       "       ..\n",
       "599     0\n",
       "5695    0\n",
       "8006    0\n",
       "1361    0\n",
       "1547    0\n",
       "Name: churn, Length: 6700, dtype: int64"
      ]
     },
     "execution_count": 24,
     "metadata": {},
     "output_type": "execute_result"
    }
   ],
   "source": [
    "y_train"
   ]
  },
  {
   "cell_type": "markdown",
   "id": "6e81661f",
   "metadata": {},
   "source": [
    "### logistic Regression"
   ]
  },
  {
   "cell_type": "code",
   "execution_count": 25,
   "id": "116631a0",
   "metadata": {},
   "outputs": [],
   "source": [
    "logmodel = LogisticRegression()"
   ]
  },
  {
   "cell_type": "code",
   "execution_count": 26,
   "id": "677597ac",
   "metadata": {},
   "outputs": [
    {
     "data": {
      "text/html": [
       "<style>#sk-container-id-1 {color: black;background-color: white;}#sk-container-id-1 pre{padding: 0;}#sk-container-id-1 div.sk-toggleable {background-color: white;}#sk-container-id-1 label.sk-toggleable__label {cursor: pointer;display: block;width: 100%;margin-bottom: 0;padding: 0.3em;box-sizing: border-box;text-align: center;}#sk-container-id-1 label.sk-toggleable__label-arrow:before {content: \"▸\";float: left;margin-right: 0.25em;color: #696969;}#sk-container-id-1 label.sk-toggleable__label-arrow:hover:before {color: black;}#sk-container-id-1 div.sk-estimator:hover label.sk-toggleable__label-arrow:before {color: black;}#sk-container-id-1 div.sk-toggleable__content {max-height: 0;max-width: 0;overflow: hidden;text-align: left;background-color: #f0f8ff;}#sk-container-id-1 div.sk-toggleable__content pre {margin: 0.2em;color: black;border-radius: 0.25em;background-color: #f0f8ff;}#sk-container-id-1 input.sk-toggleable__control:checked~div.sk-toggleable__content {max-height: 200px;max-width: 100%;overflow: auto;}#sk-container-id-1 input.sk-toggleable__control:checked~label.sk-toggleable__label-arrow:before {content: \"▾\";}#sk-container-id-1 div.sk-estimator input.sk-toggleable__control:checked~label.sk-toggleable__label {background-color: #d4ebff;}#sk-container-id-1 div.sk-label input.sk-toggleable__control:checked~label.sk-toggleable__label {background-color: #d4ebff;}#sk-container-id-1 input.sk-hidden--visually {border: 0;clip: rect(1px 1px 1px 1px);clip: rect(1px, 1px, 1px, 1px);height: 1px;margin: -1px;overflow: hidden;padding: 0;position: absolute;width: 1px;}#sk-container-id-1 div.sk-estimator {font-family: monospace;background-color: #f0f8ff;border: 1px dotted black;border-radius: 0.25em;box-sizing: border-box;margin-bottom: 0.5em;}#sk-container-id-1 div.sk-estimator:hover {background-color: #d4ebff;}#sk-container-id-1 div.sk-parallel-item::after {content: \"\";width: 100%;border-bottom: 1px solid gray;flex-grow: 1;}#sk-container-id-1 div.sk-label:hover label.sk-toggleable__label {background-color: #d4ebff;}#sk-container-id-1 div.sk-serial::before {content: \"\";position: absolute;border-left: 1px solid gray;box-sizing: border-box;top: 0;bottom: 0;left: 50%;z-index: 0;}#sk-container-id-1 div.sk-serial {display: flex;flex-direction: column;align-items: center;background-color: white;padding-right: 0.2em;padding-left: 0.2em;position: relative;}#sk-container-id-1 div.sk-item {position: relative;z-index: 1;}#sk-container-id-1 div.sk-parallel {display: flex;align-items: stretch;justify-content: center;background-color: white;position: relative;}#sk-container-id-1 div.sk-item::before, #sk-container-id-1 div.sk-parallel-item::before {content: \"\";position: absolute;border-left: 1px solid gray;box-sizing: border-box;top: 0;bottom: 0;left: 50%;z-index: -1;}#sk-container-id-1 div.sk-parallel-item {display: flex;flex-direction: column;z-index: 1;position: relative;background-color: white;}#sk-container-id-1 div.sk-parallel-item:first-child::after {align-self: flex-end;width: 50%;}#sk-container-id-1 div.sk-parallel-item:last-child::after {align-self: flex-start;width: 50%;}#sk-container-id-1 div.sk-parallel-item:only-child::after {width: 0;}#sk-container-id-1 div.sk-dashed-wrapped {border: 1px dashed gray;margin: 0 0.4em 0.5em 0.4em;box-sizing: border-box;padding-bottom: 0.4em;background-color: white;}#sk-container-id-1 div.sk-label label {font-family: monospace;font-weight: bold;display: inline-block;line-height: 1.2em;}#sk-container-id-1 div.sk-label-container {text-align: center;}#sk-container-id-1 div.sk-container {/* jupyter's `normalize.less` sets `[hidden] { display: none; }` but bootstrap.min.css set `[hidden] { display: none !important; }` so we also need the `!important` here to be able to override the default hidden behavior on the sphinx rendered scikit-learn.org. See: https://github.com/scikit-learn/scikit-learn/issues/21755 */display: inline-block !important;position: relative;}#sk-container-id-1 div.sk-text-repr-fallback {display: none;}</style><div id=\"sk-container-id-1\" class=\"sk-top-container\"><div class=\"sk-text-repr-fallback\"><pre>LogisticRegression()</pre><b>In a Jupyter environment, please rerun this cell to show the HTML representation or trust the notebook. <br />On GitHub, the HTML representation is unable to render, please try loading this page with nbviewer.org.</b></div><div class=\"sk-container\" hidden><div class=\"sk-item\"><div class=\"sk-estimator sk-toggleable\"><input class=\"sk-toggleable__control sk-hidden--visually\" id=\"sk-estimator-id-1\" type=\"checkbox\" checked><label for=\"sk-estimator-id-1\" class=\"sk-toggleable__label sk-toggleable__label-arrow\">LogisticRegression</label><div class=\"sk-toggleable__content\"><pre>LogisticRegression()</pre></div></div></div></div></div>"
      ],
      "text/plain": [
       "LogisticRegression()"
      ]
     },
     "execution_count": 26,
     "metadata": {},
     "output_type": "execute_result"
    }
   ],
   "source": [
    "logmodel.fit(X_train, y_train)"
   ]
  },
  {
   "cell_type": "code",
   "execution_count": 27,
   "id": "ac07fc84",
   "metadata": {},
   "outputs": [],
   "source": [
    "logprediction = logmodel.predict(X_test)"
   ]
  },
  {
   "cell_type": "code",
   "execution_count": 28,
   "id": "936a18d5",
   "metadata": {},
   "outputs": [
    {
     "name": "stdout",
     "output_type": "stream",
     "text": [
      "0.7824242424242425\n"
     ]
    }
   ],
   "source": [
    "print(metrics.accuracy_score(y_test , logprediction))"
   ]
  },
  {
   "cell_type": "code",
   "execution_count": 29,
   "id": "719aee38",
   "metadata": {},
   "outputs": [
    {
     "name": "stdout",
     "output_type": "stream",
     "text": [
      "[[2543   77]\n",
      " [ 641   39]]\n"
     ]
    }
   ],
   "source": [
    "print(metrics.confusion_matrix(y_test , logprediction))"
   ]
  },
  {
   "cell_type": "markdown",
   "id": "85a58dd7",
   "metadata": {},
   "source": [
    "### DecisionTreeClassifier"
   ]
  },
  {
   "cell_type": "code",
   "execution_count": 30,
   "id": "f4f2d899",
   "metadata": {},
   "outputs": [],
   "source": [
    "dtree = DecisionTreeClassifier()"
   ]
  },
  {
   "cell_type": "code",
   "execution_count": 31,
   "id": "07caa787",
   "metadata": {},
   "outputs": [
    {
     "data": {
      "text/html": [
       "<style>#sk-container-id-2 {color: black;background-color: white;}#sk-container-id-2 pre{padding: 0;}#sk-container-id-2 div.sk-toggleable {background-color: white;}#sk-container-id-2 label.sk-toggleable__label {cursor: pointer;display: block;width: 100%;margin-bottom: 0;padding: 0.3em;box-sizing: border-box;text-align: center;}#sk-container-id-2 label.sk-toggleable__label-arrow:before {content: \"▸\";float: left;margin-right: 0.25em;color: #696969;}#sk-container-id-2 label.sk-toggleable__label-arrow:hover:before {color: black;}#sk-container-id-2 div.sk-estimator:hover label.sk-toggleable__label-arrow:before {color: black;}#sk-container-id-2 div.sk-toggleable__content {max-height: 0;max-width: 0;overflow: hidden;text-align: left;background-color: #f0f8ff;}#sk-container-id-2 div.sk-toggleable__content pre {margin: 0.2em;color: black;border-radius: 0.25em;background-color: #f0f8ff;}#sk-container-id-2 input.sk-toggleable__control:checked~div.sk-toggleable__content {max-height: 200px;max-width: 100%;overflow: auto;}#sk-container-id-2 input.sk-toggleable__control:checked~label.sk-toggleable__label-arrow:before {content: \"▾\";}#sk-container-id-2 div.sk-estimator input.sk-toggleable__control:checked~label.sk-toggleable__label {background-color: #d4ebff;}#sk-container-id-2 div.sk-label input.sk-toggleable__control:checked~label.sk-toggleable__label {background-color: #d4ebff;}#sk-container-id-2 input.sk-hidden--visually {border: 0;clip: rect(1px 1px 1px 1px);clip: rect(1px, 1px, 1px, 1px);height: 1px;margin: -1px;overflow: hidden;padding: 0;position: absolute;width: 1px;}#sk-container-id-2 div.sk-estimator {font-family: monospace;background-color: #f0f8ff;border: 1px dotted black;border-radius: 0.25em;box-sizing: border-box;margin-bottom: 0.5em;}#sk-container-id-2 div.sk-estimator:hover {background-color: #d4ebff;}#sk-container-id-2 div.sk-parallel-item::after {content: \"\";width: 100%;border-bottom: 1px solid gray;flex-grow: 1;}#sk-container-id-2 div.sk-label:hover label.sk-toggleable__label {background-color: #d4ebff;}#sk-container-id-2 div.sk-serial::before {content: \"\";position: absolute;border-left: 1px solid gray;box-sizing: border-box;top: 0;bottom: 0;left: 50%;z-index: 0;}#sk-container-id-2 div.sk-serial {display: flex;flex-direction: column;align-items: center;background-color: white;padding-right: 0.2em;padding-left: 0.2em;position: relative;}#sk-container-id-2 div.sk-item {position: relative;z-index: 1;}#sk-container-id-2 div.sk-parallel {display: flex;align-items: stretch;justify-content: center;background-color: white;position: relative;}#sk-container-id-2 div.sk-item::before, #sk-container-id-2 div.sk-parallel-item::before {content: \"\";position: absolute;border-left: 1px solid gray;box-sizing: border-box;top: 0;bottom: 0;left: 50%;z-index: -1;}#sk-container-id-2 div.sk-parallel-item {display: flex;flex-direction: column;z-index: 1;position: relative;background-color: white;}#sk-container-id-2 div.sk-parallel-item:first-child::after {align-self: flex-end;width: 50%;}#sk-container-id-2 div.sk-parallel-item:last-child::after {align-self: flex-start;width: 50%;}#sk-container-id-2 div.sk-parallel-item:only-child::after {width: 0;}#sk-container-id-2 div.sk-dashed-wrapped {border: 1px dashed gray;margin: 0 0.4em 0.5em 0.4em;box-sizing: border-box;padding-bottom: 0.4em;background-color: white;}#sk-container-id-2 div.sk-label label {font-family: monospace;font-weight: bold;display: inline-block;line-height: 1.2em;}#sk-container-id-2 div.sk-label-container {text-align: center;}#sk-container-id-2 div.sk-container {/* jupyter's `normalize.less` sets `[hidden] { display: none; }` but bootstrap.min.css set `[hidden] { display: none !important; }` so we also need the `!important` here to be able to override the default hidden behavior on the sphinx rendered scikit-learn.org. See: https://github.com/scikit-learn/scikit-learn/issues/21755 */display: inline-block !important;position: relative;}#sk-container-id-2 div.sk-text-repr-fallback {display: none;}</style><div id=\"sk-container-id-2\" class=\"sk-top-container\"><div class=\"sk-text-repr-fallback\"><pre>DecisionTreeClassifier()</pre><b>In a Jupyter environment, please rerun this cell to show the HTML representation or trust the notebook. <br />On GitHub, the HTML representation is unable to render, please try loading this page with nbviewer.org.</b></div><div class=\"sk-container\" hidden><div class=\"sk-item\"><div class=\"sk-estimator sk-toggleable\"><input class=\"sk-toggleable__control sk-hidden--visually\" id=\"sk-estimator-id-2\" type=\"checkbox\" checked><label for=\"sk-estimator-id-2\" class=\"sk-toggleable__label sk-toggleable__label-arrow\">DecisionTreeClassifier</label><div class=\"sk-toggleable__content\"><pre>DecisionTreeClassifier()</pre></div></div></div></div></div>"
      ],
      "text/plain": [
       "DecisionTreeClassifier()"
      ]
     },
     "execution_count": 31,
     "metadata": {},
     "output_type": "execute_result"
    }
   ],
   "source": [
    "dtree.fit(X_train, y_train)"
   ]
  },
  {
   "cell_type": "code",
   "execution_count": 32,
   "id": "df39078a",
   "metadata": {},
   "outputs": [],
   "source": [
    "dtprediction = dtree.predict(X_test)"
   ]
  },
  {
   "cell_type": "code",
   "execution_count": 33,
   "id": "3bf7fc72",
   "metadata": {},
   "outputs": [
    {
     "name": "stdout",
     "output_type": "stream",
     "text": [
      "0.7996969696969697\n"
     ]
    }
   ],
   "source": [
    "print(metrics.accuracy_score(y_test , dtprediction))"
   ]
  },
  {
   "cell_type": "code",
   "execution_count": null,
   "id": "2b0edeb7",
   "metadata": {},
   "outputs": [],
   "source": []
  },
  {
   "cell_type": "markdown",
   "id": "e9212b8d",
   "metadata": {},
   "source": [
    "### RandomForestClassifier"
   ]
  },
  {
   "cell_type": "code",
   "execution_count": 34,
   "id": "1e0b868e",
   "metadata": {},
   "outputs": [],
   "source": [
    "rfmodel = RandomForestClassifier()"
   ]
  },
  {
   "cell_type": "code",
   "execution_count": 35,
   "id": "9957ba28",
   "metadata": {},
   "outputs": [
    {
     "data": {
      "text/html": [
       "<style>#sk-container-id-3 {color: black;background-color: white;}#sk-container-id-3 pre{padding: 0;}#sk-container-id-3 div.sk-toggleable {background-color: white;}#sk-container-id-3 label.sk-toggleable__label {cursor: pointer;display: block;width: 100%;margin-bottom: 0;padding: 0.3em;box-sizing: border-box;text-align: center;}#sk-container-id-3 label.sk-toggleable__label-arrow:before {content: \"▸\";float: left;margin-right: 0.25em;color: #696969;}#sk-container-id-3 label.sk-toggleable__label-arrow:hover:before {color: black;}#sk-container-id-3 div.sk-estimator:hover label.sk-toggleable__label-arrow:before {color: black;}#sk-container-id-3 div.sk-toggleable__content {max-height: 0;max-width: 0;overflow: hidden;text-align: left;background-color: #f0f8ff;}#sk-container-id-3 div.sk-toggleable__content pre {margin: 0.2em;color: black;border-radius: 0.25em;background-color: #f0f8ff;}#sk-container-id-3 input.sk-toggleable__control:checked~div.sk-toggleable__content {max-height: 200px;max-width: 100%;overflow: auto;}#sk-container-id-3 input.sk-toggleable__control:checked~label.sk-toggleable__label-arrow:before {content: \"▾\";}#sk-container-id-3 div.sk-estimator input.sk-toggleable__control:checked~label.sk-toggleable__label {background-color: #d4ebff;}#sk-container-id-3 div.sk-label input.sk-toggleable__control:checked~label.sk-toggleable__label {background-color: #d4ebff;}#sk-container-id-3 input.sk-hidden--visually {border: 0;clip: rect(1px 1px 1px 1px);clip: rect(1px, 1px, 1px, 1px);height: 1px;margin: -1px;overflow: hidden;padding: 0;position: absolute;width: 1px;}#sk-container-id-3 div.sk-estimator {font-family: monospace;background-color: #f0f8ff;border: 1px dotted black;border-radius: 0.25em;box-sizing: border-box;margin-bottom: 0.5em;}#sk-container-id-3 div.sk-estimator:hover {background-color: #d4ebff;}#sk-container-id-3 div.sk-parallel-item::after {content: \"\";width: 100%;border-bottom: 1px solid gray;flex-grow: 1;}#sk-container-id-3 div.sk-label:hover label.sk-toggleable__label {background-color: #d4ebff;}#sk-container-id-3 div.sk-serial::before {content: \"\";position: absolute;border-left: 1px solid gray;box-sizing: border-box;top: 0;bottom: 0;left: 50%;z-index: 0;}#sk-container-id-3 div.sk-serial {display: flex;flex-direction: column;align-items: center;background-color: white;padding-right: 0.2em;padding-left: 0.2em;position: relative;}#sk-container-id-3 div.sk-item {position: relative;z-index: 1;}#sk-container-id-3 div.sk-parallel {display: flex;align-items: stretch;justify-content: center;background-color: white;position: relative;}#sk-container-id-3 div.sk-item::before, #sk-container-id-3 div.sk-parallel-item::before {content: \"\";position: absolute;border-left: 1px solid gray;box-sizing: border-box;top: 0;bottom: 0;left: 50%;z-index: -1;}#sk-container-id-3 div.sk-parallel-item {display: flex;flex-direction: column;z-index: 1;position: relative;background-color: white;}#sk-container-id-3 div.sk-parallel-item:first-child::after {align-self: flex-end;width: 50%;}#sk-container-id-3 div.sk-parallel-item:last-child::after {align-self: flex-start;width: 50%;}#sk-container-id-3 div.sk-parallel-item:only-child::after {width: 0;}#sk-container-id-3 div.sk-dashed-wrapped {border: 1px dashed gray;margin: 0 0.4em 0.5em 0.4em;box-sizing: border-box;padding-bottom: 0.4em;background-color: white;}#sk-container-id-3 div.sk-label label {font-family: monospace;font-weight: bold;display: inline-block;line-height: 1.2em;}#sk-container-id-3 div.sk-label-container {text-align: center;}#sk-container-id-3 div.sk-container {/* jupyter's `normalize.less` sets `[hidden] { display: none; }` but bootstrap.min.css set `[hidden] { display: none !important; }` so we also need the `!important` here to be able to override the default hidden behavior on the sphinx rendered scikit-learn.org. See: https://github.com/scikit-learn/scikit-learn/issues/21755 */display: inline-block !important;position: relative;}#sk-container-id-3 div.sk-text-repr-fallback {display: none;}</style><div id=\"sk-container-id-3\" class=\"sk-top-container\"><div class=\"sk-text-repr-fallback\"><pre>RandomForestClassifier()</pre><b>In a Jupyter environment, please rerun this cell to show the HTML representation or trust the notebook. <br />On GitHub, the HTML representation is unable to render, please try loading this page with nbviewer.org.</b></div><div class=\"sk-container\" hidden><div class=\"sk-item\"><div class=\"sk-estimator sk-toggleable\"><input class=\"sk-toggleable__control sk-hidden--visually\" id=\"sk-estimator-id-3\" type=\"checkbox\" checked><label for=\"sk-estimator-id-3\" class=\"sk-toggleable__label sk-toggleable__label-arrow\">RandomForestClassifier</label><div class=\"sk-toggleable__content\"><pre>RandomForestClassifier()</pre></div></div></div></div></div>"
      ],
      "text/plain": [
       "RandomForestClassifier()"
      ]
     },
     "execution_count": 35,
     "metadata": {},
     "output_type": "execute_result"
    }
   ],
   "source": [
    "rfmodel.fit(X_train , y_train)"
   ]
  },
  {
   "cell_type": "code",
   "execution_count": 36,
   "id": "dd6ecbde",
   "metadata": {},
   "outputs": [],
   "source": [
    "rfprediction = rfmodel.predict(X_test)"
   ]
  },
  {
   "cell_type": "code",
   "execution_count": 37,
   "id": "a97dfa8d",
   "metadata": {},
   "outputs": [
    {
     "name": "stdout",
     "output_type": "stream",
     "text": [
      "0.8572727272727273\n"
     ]
    }
   ],
   "source": [
    "print(metrics.accuracy_score(y_test , rfprediction))"
   ]
  },
  {
   "cell_type": "markdown",
   "id": "11096816",
   "metadata": {},
   "source": [
    "# Deep learning - Tensorflow"
   ]
  },
  {
   "cell_type": "code",
   "execution_count": 38,
   "id": "39835d29",
   "metadata": {},
   "outputs": [],
   "source": [
    "#conda install tensorflow"
   ]
  },
  {
   "cell_type": "code",
   "execution_count": 39,
   "id": "49a1fcbe",
   "metadata": {},
   "outputs": [],
   "source": [
    "#initiate a model\n",
    "tfmodel = Sequential()\n",
    "#add input layer\n",
    "tfmodel.add(Dense(units = 13,activation ='relu'))\n",
    "\n",
    "#add the hidden layer\n",
    "tfmodel.add(Dense(units = 7,activation ='relu'))\n",
    "tfmodel.add(Dense(units = 4,activation ='relu'))\n",
    "\n",
    "#add the output layer\n",
    "tfmodel.add(Dense(units = 1, activation = 'sigmoid'))#sigmoid returns value between 0 and 1\n",
    "\n",
    "#compile the model ready for training\n",
    "tfmodel.compile(loss='binary_crossentropy', optimizer='adam')#optimiser reduces errors in a model"
   ]
  },
  {
   "cell_type": "code",
   "execution_count": 40,
   "id": "8c16bedf",
   "metadata": {},
   "outputs": [
    {
     "name": "stdout",
     "output_type": "stream",
     "text": [
      "Epoch 1/70\n",
      "210/210 [==============================] - 4s 9ms/step - loss: 287.1765 - val_loss: 10.2406\n",
      "Epoch 2/70\n",
      "210/210 [==============================] - 1s 3ms/step - loss: 1.9324 - val_loss: 0.6267\n",
      "Epoch 3/70\n",
      "210/210 [==============================] - 1s 3ms/step - loss: 0.6061 - val_loss: 0.5862\n",
      "Epoch 4/70\n",
      "210/210 [==============================] - 1s 3ms/step - loss: 0.5713 - val_loss: 0.5590\n",
      "Epoch 5/70\n",
      "210/210 [==============================] - 1s 3ms/step - loss: 0.5485 - val_loss: 0.5417\n",
      "Epoch 6/70\n",
      "210/210 [==============================] - 1s 3ms/step - loss: 0.5328 - val_loss: 0.5296\n",
      "Epoch 7/70\n",
      "210/210 [==============================] - 1s 4ms/step - loss: 0.5224 - val_loss: 0.5214\n",
      "Epoch 8/70\n",
      "210/210 [==============================] - 1s 4ms/step - loss: 0.5154 - val_loss: 0.5164\n",
      "Epoch 9/70\n",
      "210/210 [==============================] - 1s 3ms/step - loss: 0.5107 - val_loss: 0.5131\n",
      "Epoch 10/70\n",
      "210/210 [==============================] - 1s 4ms/step - loss: 0.5078 - val_loss: 0.5109\n",
      "Epoch 11/70\n",
      "210/210 [==============================] - 1s 4ms/step - loss: 0.5061 - val_loss: 0.5098\n",
      "Epoch 12/70\n",
      "210/210 [==============================] - 1s 4ms/step - loss: 0.5051 - val_loss: 0.5090\n",
      "Epoch 13/70\n",
      "210/210 [==============================] - 1s 4ms/step - loss: 0.5045 - val_loss: 0.5087\n",
      "Epoch 14/70\n",
      "210/210 [==============================] - 1s 3ms/step - loss: 0.5041 - val_loss: 0.5084\n",
      "Epoch 15/70\n",
      "210/210 [==============================] - 1s 3ms/step - loss: 0.5039 - val_loss: 0.5084\n",
      "Epoch 16/70\n",
      "210/210 [==============================] - 1s 3ms/step - loss: 0.5038 - val_loss: 0.5083\n",
      "Epoch 17/70\n",
      "210/210 [==============================] - 1s 3ms/step - loss: 0.5038 - val_loss: 0.5083\n",
      "Epoch 18/70\n",
      "210/210 [==============================] - 1s 3ms/step - loss: 0.5037 - val_loss: 0.5083\n",
      "Epoch 19/70\n",
      "210/210 [==============================] - 1s 3ms/step - loss: 0.5037 - val_loss: 0.5083\n",
      "Epoch 20/70\n",
      "210/210 [==============================] - 1s 4ms/step - loss: 0.5037 - val_loss: 0.5083\n",
      "Epoch 21/70\n",
      "210/210 [==============================] - 1s 3ms/step - loss: 0.5037 - val_loss: 0.5083\n",
      "Epoch 22/70\n",
      "210/210 [==============================] - 1s 3ms/step - loss: 0.5037 - val_loss: 0.5083\n",
      "Epoch 23/70\n",
      "210/210 [==============================] - 1s 3ms/step - loss: 0.5037 - val_loss: 0.5084\n",
      "Epoch 24/70\n",
      "210/210 [==============================] - 1s 3ms/step - loss: 0.5037 - val_loss: 0.5084\n",
      "Epoch 25/70\n",
      "210/210 [==============================] - 1s 3ms/step - loss: 0.5038 - val_loss: 0.5084\n",
      "Epoch 26/70\n",
      "210/210 [==============================] - 1s 3ms/step - loss: 0.5037 - val_loss: 0.5084\n",
      "Epoch 27/70\n",
      "210/210 [==============================] - 1s 3ms/step - loss: 0.5037 - val_loss: 0.5084\n",
      "Epoch 28/70\n",
      "210/210 [==============================] - 1s 4ms/step - loss: 0.5037 - val_loss: 0.5084\n",
      "Epoch 29/70\n",
      "210/210 [==============================] - 1s 3ms/step - loss: 0.5037 - val_loss: 0.5084\n",
      "Epoch 30/70\n",
      "210/210 [==============================] - 1s 3ms/step - loss: 0.5037 - val_loss: 0.5083\n",
      "Epoch 31/70\n",
      "210/210 [==============================] - 1s 3ms/step - loss: 0.5037 - val_loss: 0.5085\n",
      "Epoch 32/70\n",
      "210/210 [==============================] - 1s 3ms/step - loss: 0.5039 - val_loss: 0.5084\n",
      "Epoch 33/70\n",
      "210/210 [==============================] - 1s 3ms/step - loss: 0.5038 - val_loss: 0.5085\n",
      "Epoch 34/70\n",
      "210/210 [==============================] - 1s 3ms/step - loss: 0.5037 - val_loss: 0.5085\n",
      "Epoch 35/70\n",
      "210/210 [==============================] - 1s 3ms/step - loss: 0.5037 - val_loss: 0.5085\n",
      "Epoch 36/70\n",
      "210/210 [==============================] - 1s 3ms/step - loss: 0.5037 - val_loss: 0.5085\n",
      "Epoch 37/70\n",
      "210/210 [==============================] - 1s 3ms/step - loss: 0.5037 - val_loss: 0.5085\n",
      "Epoch 38/70\n",
      "210/210 [==============================] - 1s 3ms/step - loss: 0.5037 - val_loss: 0.5084\n",
      "Epoch 39/70\n",
      "210/210 [==============================] - 1s 4ms/step - loss: 0.5036 - val_loss: 0.5085\n",
      "Epoch 40/70\n",
      "210/210 [==============================] - 1s 4ms/step - loss: 0.5037 - val_loss: 0.5084\n",
      "Epoch 41/70\n",
      "210/210 [==============================] - 1s 4ms/step - loss: 0.5038 - val_loss: 0.5084\n",
      "Epoch 42/70\n",
      "210/210 [==============================] - 1s 4ms/step - loss: 0.5037 - val_loss: 0.5084\n",
      "Epoch 43/70\n",
      "210/210 [==============================] - 1s 3ms/step - loss: 0.5038 - val_loss: 0.5084\n",
      "Epoch 44/70\n",
      "210/210 [==============================] - 1s 4ms/step - loss: 0.5037 - val_loss: 0.5084\n",
      "Epoch 45/70\n",
      "210/210 [==============================] - 1s 4ms/step - loss: 0.5037 - val_loss: 0.5084\n",
      "Epoch 46/70\n",
      "210/210 [==============================] - 1s 4ms/step - loss: 0.5037 - val_loss: 0.5084\n",
      "Epoch 47/70\n",
      "210/210 [==============================] - 1s 4ms/step - loss: 0.5038 - val_loss: 0.5084\n",
      "Epoch 48/70\n",
      "210/210 [==============================] - 1s 4ms/step - loss: 0.5036 - val_loss: 0.5084\n",
      "Epoch 49/70\n",
      "210/210 [==============================] - 1s 4ms/step - loss: 0.5040 - val_loss: 0.5085\n",
      "Epoch 50/70\n",
      "210/210 [==============================] - 1s 4ms/step - loss: 0.5038 - val_loss: 0.5085\n",
      "Epoch 51/70\n",
      "210/210 [==============================] - 1s 4ms/step - loss: 0.5037 - val_loss: 0.5084\n",
      "Epoch 52/70\n",
      "210/210 [==============================] - 1s 3ms/step - loss: 0.5038 - val_loss: 0.5084\n",
      "Epoch 53/70\n",
      "210/210 [==============================] - 1s 3ms/step - loss: 0.6413 - val_loss: 0.5086\n",
      "Epoch 54/70\n",
      "210/210 [==============================] - 1s 3ms/step - loss: 0.5038 - val_loss: 0.5086\n",
      "Epoch 55/70\n",
      "210/210 [==============================] - 1s 3ms/step - loss: 0.5038 - val_loss: 0.5086\n",
      "Epoch 56/70\n",
      "210/210 [==============================] - 1s 3ms/step - loss: 0.5038 - val_loss: 0.5086\n",
      "Epoch 57/70\n",
      "210/210 [==============================] - 1s 4ms/step - loss: 0.5037 - val_loss: 0.5086\n",
      "Epoch 58/70\n",
      "210/210 [==============================] - 1s 3ms/step - loss: 0.5037 - val_loss: 0.5086\n",
      "Epoch 59/70\n",
      "210/210 [==============================] - 1s 3ms/step - loss: 0.5037 - val_loss: 0.5085\n",
      "Epoch 60/70\n",
      "210/210 [==============================] - 1s 3ms/step - loss: 0.5037 - val_loss: 0.5085\n",
      "Epoch 61/70\n",
      "210/210 [==============================] - 1s 3ms/step - loss: 0.5037 - val_loss: 0.5085\n",
      "Epoch 62/70\n",
      "210/210 [==============================] - 1s 4ms/step - loss: 0.5037 - val_loss: 0.5086\n",
      "Epoch 63/70\n",
      "210/210 [==============================] - 1s 4ms/step - loss: 0.5037 - val_loss: 0.5086\n",
      "Epoch 64/70\n",
      "210/210 [==============================] - 1s 4ms/step - loss: 0.5037 - val_loss: 0.5086\n",
      "Epoch 65/70\n",
      "210/210 [==============================] - 1s 4ms/step - loss: 0.5037 - val_loss: 0.5086\n",
      "Epoch 66/70\n",
      "210/210 [==============================] - 1s 4ms/step - loss: 0.5037 - val_loss: 0.5085\n",
      "Epoch 67/70\n",
      "210/210 [==============================] - 1s 4ms/step - loss: 0.5037 - val_loss: 0.5085\n",
      "Epoch 68/70\n",
      "210/210 [==============================] - 1s 5ms/step - loss: 0.5037 - val_loss: 0.5085\n",
      "Epoch 69/70\n",
      "210/210 [==============================] - 1s 4ms/step - loss: 0.5037 - val_loss: 0.5085\n",
      "Epoch 70/70\n",
      "210/210 [==============================] - 1s 4ms/step - loss: 0.5037 - val_loss: 0.5085\n"
     ]
    },
    {
     "data": {
      "text/plain": [
       "<keras.callbacks.History at 0x2b6d1b8e3e0>"
      ]
     },
     "execution_count": 40,
     "metadata": {},
     "output_type": "execute_result"
    }
   ],
   "source": [
    "tfmodel.fit(x = X_train , y = y_train, epochs =70,validation_data =(X_test,y_test))# epochs actually allows our deep learning to interprete our model for a number of times before training\n",
    "                                                # this is for best accuracy. your epochs must be balanced"
   ]
  },
  {
   "cell_type": "code",
   "execution_count": 41,
   "id": "364c1671",
   "metadata": {},
   "outputs": [],
   "source": [
    "#check for overfitting"
   ]
  },
  {
   "cell_type": "code",
   "execution_count": 42,
   "id": "9ddf4ee2",
   "metadata": {},
   "outputs": [
    {
     "data": {
      "text/plain": [
       "{'loss': [287.1765441894531,\n",
       "  1.932350754737854,\n",
       "  0.606060266494751,\n",
       "  0.5713151693344116,\n",
       "  0.5484881401062012,\n",
       "  0.5327834486961365,\n",
       "  0.5223968029022217,\n",
       "  0.5154035091400146,\n",
       "  0.5107360482215881,\n",
       "  0.507838249206543,\n",
       "  0.5061315298080444,\n",
       "  0.5050980448722839,\n",
       "  0.504523515701294,\n",
       "  0.5041061639785767,\n",
       "  0.5039287209510803,\n",
       "  0.5037801265716553,\n",
       "  0.5037729740142822,\n",
       "  0.5036934018135071,\n",
       "  0.503670334815979,\n",
       "  0.5037000775337219,\n",
       "  0.503698468208313,\n",
       "  0.5036770701408386,\n",
       "  0.5036800503730774,\n",
       "  0.5037198066711426,\n",
       "  0.5037623047828674,\n",
       "  0.5036914944648743,\n",
       "  0.503689169883728,\n",
       "  0.5036978125572205,\n",
       "  0.5036929249763489,\n",
       "  0.5036980509757996,\n",
       "  0.5037363171577454,\n",
       "  0.5039260983467102,\n",
       "  0.5037786960601807,\n",
       "  0.5037378072738647,\n",
       "  0.5037286281585693,\n",
       "  0.5036716461181641,\n",
       "  0.5037475824356079,\n",
       "  0.5037412047386169,\n",
       "  0.503642201423645,\n",
       "  0.5037409067153931,\n",
       "  0.5038030743598938,\n",
       "  0.5036934018135071,\n",
       "  0.503817081451416,\n",
       "  0.5037347674369812,\n",
       "  0.5037350058555603,\n",
       "  0.5037014484405518,\n",
       "  0.5037633180618286,\n",
       "  0.5035750269889832,\n",
       "  0.5039690732955933,\n",
       "  0.5037579536437988,\n",
       "  0.5036958456039429,\n",
       "  0.5037846565246582,\n",
       "  0.6412596702575684,\n",
       "  0.503802478313446,\n",
       "  0.5037596821784973,\n",
       "  0.5037687420845032,\n",
       "  0.5037258863449097,\n",
       "  0.5037250518798828,\n",
       "  0.5037438273429871,\n",
       "  0.5037102103233337,\n",
       "  0.5037485361099243,\n",
       "  0.5037426948547363,\n",
       "  0.5037082433700562,\n",
       "  0.5037229061126709,\n",
       "  0.5037081837654114,\n",
       "  0.5037380456924438,\n",
       "  0.5037213563919067,\n",
       "  0.5037257671356201,\n",
       "  0.5037433505058289,\n",
       "  0.5036830306053162],\n",
       " 'val_loss': [10.24063491821289,\n",
       "  0.6266651749610901,\n",
       "  0.5861570239067078,\n",
       "  0.5590053200721741,\n",
       "  0.5417090058326721,\n",
       "  0.5295721888542175,\n",
       "  0.5214176177978516,\n",
       "  0.5164436101913452,\n",
       "  0.5130575299263,\n",
       "  0.5108787417411804,\n",
       "  0.5097827911376953,\n",
       "  0.5090052485466003,\n",
       "  0.5086573958396912,\n",
       "  0.5084435343742371,\n",
       "  0.5083560943603516,\n",
       "  0.5083163976669312,\n",
       "  0.5083047747612,\n",
       "  0.5083053708076477,\n",
       "  0.5083135962486267,\n",
       "  0.5083488821983337,\n",
       "  0.5083410739898682,\n",
       "  0.5083274245262146,\n",
       "  0.5083971619606018,\n",
       "  0.5083848834037781,\n",
       "  0.5083817839622498,\n",
       "  0.5083754658699036,\n",
       "  0.5083649158477783,\n",
       "  0.5083690285682678,\n",
       "  0.5083608031272888,\n",
       "  0.5083441138267517,\n",
       "  0.5084977149963379,\n",
       "  0.5083982348442078,\n",
       "  0.5085086226463318,\n",
       "  0.5084947347640991,\n",
       "  0.5084841251373291,\n",
       "  0.5084913372993469,\n",
       "  0.5084546804428101,\n",
       "  0.5084352493286133,\n",
       "  0.5084561705589294,\n",
       "  0.5084424614906311,\n",
       "  0.5084256529808044,\n",
       "  0.5084171295166016,\n",
       "  0.5084155201911926,\n",
       "  0.5084200501441956,\n",
       "  0.5084308981895447,\n",
       "  0.5084149837493896,\n",
       "  0.5084208846092224,\n",
       "  0.5084217190742493,\n",
       "  0.5084518194198608,\n",
       "  0.5084680914878845,\n",
       "  0.5084381103515625,\n",
       "  0.5084193348884583,\n",
       "  0.5085873603820801,\n",
       "  0.5085713863372803,\n",
       "  0.5085712671279907,\n",
       "  0.5085761547088623,\n",
       "  0.5085620284080505,\n",
       "  0.5085593461990356,\n",
       "  0.5085460543632507,\n",
       "  0.5085330605506897,\n",
       "  0.5085245966911316,\n",
       "  0.5085991024971008,\n",
       "  0.5085775256156921,\n",
       "  0.5085703134536743,\n",
       "  0.5085757970809937,\n",
       "  0.5085357427597046,\n",
       "  0.5085421800613403,\n",
       "  0.5085235238075256,\n",
       "  0.5085104703903198,\n",
       "  0.5085422396659851]}"
      ]
     },
     "execution_count": 42,
     "metadata": {},
     "output_type": "execute_result"
    }
   ],
   "source": [
    "tfmodel.history.history"
   ]
  },
  {
   "cell_type": "code",
   "execution_count": 43,
   "id": "13a64cc8",
   "metadata": {},
   "outputs": [],
   "source": [
    "loss = pd.DataFrame(tfmodel.history.history)"
   ]
  },
  {
   "cell_type": "code",
   "execution_count": 44,
   "id": "d8ef9bf0",
   "metadata": {},
   "outputs": [
    {
     "data": {
      "text/html": [
       "<div>\n",
       "<style scoped>\n",
       "    .dataframe tbody tr th:only-of-type {\n",
       "        vertical-align: middle;\n",
       "    }\n",
       "\n",
       "    .dataframe tbody tr th {\n",
       "        vertical-align: top;\n",
       "    }\n",
       "\n",
       "    .dataframe thead th {\n",
       "        text-align: right;\n",
       "    }\n",
       "</style>\n",
       "<table border=\"1\" class=\"dataframe\">\n",
       "  <thead>\n",
       "    <tr style=\"text-align: right;\">\n",
       "      <th></th>\n",
       "      <th>loss</th>\n",
       "      <th>val_loss</th>\n",
       "    </tr>\n",
       "  </thead>\n",
       "  <tbody>\n",
       "    <tr>\n",
       "      <th>0</th>\n",
       "      <td>287.176544</td>\n",
       "      <td>10.240635</td>\n",
       "    </tr>\n",
       "    <tr>\n",
       "      <th>1</th>\n",
       "      <td>1.932351</td>\n",
       "      <td>0.626665</td>\n",
       "    </tr>\n",
       "    <tr>\n",
       "      <th>2</th>\n",
       "      <td>0.606060</td>\n",
       "      <td>0.586157</td>\n",
       "    </tr>\n",
       "    <tr>\n",
       "      <th>3</th>\n",
       "      <td>0.571315</td>\n",
       "      <td>0.559005</td>\n",
       "    </tr>\n",
       "    <tr>\n",
       "      <th>4</th>\n",
       "      <td>0.548488</td>\n",
       "      <td>0.541709</td>\n",
       "    </tr>\n",
       "  </tbody>\n",
       "</table>\n",
       "</div>"
      ],
      "text/plain": [
       "         loss   val_loss\n",
       "0  287.176544  10.240635\n",
       "1    1.932351   0.626665\n",
       "2    0.606060   0.586157\n",
       "3    0.571315   0.559005\n",
       "4    0.548488   0.541709"
      ]
     },
     "execution_count": 44,
     "metadata": {},
     "output_type": "execute_result"
    }
   ],
   "source": [
    "loss.head()"
   ]
  },
  {
   "cell_type": "code",
   "execution_count": 45,
   "id": "101f1f53",
   "metadata": {},
   "outputs": [
    {
     "data": {
      "image/png": "[encoded data removed]",
      "text/plain": [
       "<Figure size 640x480 with 1 Axes>"
      ]
     },
     "metadata": {},
     "output_type": "display_data"
    }
   ],
   "source": [
    "loss.plot();"
   ]
  },
  {
   "cell_type": "code",
   "execution_count": 46,
   "id": "84fa83e2",
   "metadata": {},
   "outputs": [],
   "source": [
    "prediction =(tfmodel.predict(X_test)>0.5).astype(\"int\")\n"
   ]
  },
  {
   "cell_type": "code",
   "execution_count": 47,
   "id": "e0fa01b4",
   "metadata": {},
   "outputs": [
    {
     "data": {
      "text/plain": [
       "array([[0],\n",
       "       [0],\n",
       "       [0],\n",
       "       ...,\n",
       "       [0],\n",
       "       [0],\n",
       "       [0]])"
      ]
     },
     "execution_count": 47,
     "metadata": {},
     "output_type": "execute_result"
    }
   ],
   "source": [
    "prediction"
   ]
  },
  {
   "cell_type": "code",
   "execution_count": 48,
   "id": "62125a2a",
   "metadata": {},
   "outputs": [
    {
     "name": "stdout",
     "output_type": "stream",
     "text": [
      "0.793939393939394\n"
     ]
    }
   ],
   "source": [
    "print(metrics.accuracy_score(y_test,prediction))"
   ]
  },
  {
   "cell_type": "code",
   "execution_count": null,
   "id": "623ff7e1",
   "metadata": {},
   "outputs": [],
   "source": []
  }
 ],
 "metadata": {
  "kernelspec": {
   "display_name": "Python 3 (ipykernel)",
   "language": "python",
   "name": "python3"
  },
  "language_info": {
   "codemirror_mode": {
    "name": "ipython",
    "version": 3
   },
   "file_extension": ".py",
   "mimetype": "text/x-python",
   "name": "python",
   "nbconvert_exporter": "python",
   "pygments_lexer": "ipython3",
   "version": "3.10.6"
  }
 },
 "nbformat": 4,
 "nbformat_minor": 5
}
